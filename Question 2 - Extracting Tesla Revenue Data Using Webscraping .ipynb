{
 "cells": [
  {
   "cell_type": "code",
   "execution_count": null,
   "id": "bcb6c0c1-f8f1-4f08-b94b-f8a9beacbf2b",
   "metadata": {},
   "outputs": [],
   "source": [
    "# Question 2 - Extracting Tesla Revenue Data Using Webscraping"
   ]
  },
  {
   "cell_type": "code",
   "execution_count": 1,
   "id": "7b8dfa0e-7a0a-424d-b9fc-bb8ac8c653d0",
   "metadata": {
    "tags": []
   },
   "outputs": [],
   "source": [
    "import requests\n",
    "from bs4 import BeautifulSoup"
   ]
  },
  {
   "cell_type": "code",
   "execution_count": 27,
   "id": "4cb65fcd-c3f4-4b40-a94f-79b3c1b0d49d",
   "metadata": {
    "tags": []
   },
   "outputs": [],
   "source": [
    "url = \"https://cf-courses-data.s3.us.cloud-object-storage.appdomain.cloud/IBMDeveloperSkillsNetwork-PY0220EN-SkillsNetwork/labs/project/revenue.htm\""
   ]
  },
  {
   "cell_type": "code",
   "execution_count": 28,
   "id": "8ef10143-576f-4eba-b802-99207583016f",
   "metadata": {
    "tags": []
   },
   "outputs": [],
   "source": [
    "response = requests.get(url)"
   ]
  },
  {
   "cell_type": "code",
   "execution_count": 57,
   "id": "e44a93d1-86fc-4c6f-a500-9764a8735da9",
   "metadata": {
    "tags": []
   },
   "outputs": [],
   "source": [
    "soup = BeautifulSoup(response.text, \"html.parser\")"
   ]
  },
  {
   "cell_type": "code",
   "execution_count": 30,
   "id": "7bb2bd34-34a0-4cd6-9b76-129aa7615e5d",
   "metadata": {
    "tags": []
   },
   "outputs": [],
   "source": [
    "import pandas as pd\n",
    "tesla_revenue = pd.DataFrame(columns=[\"Date\",\"Revenue\"])"
   ]
  },
  {
   "cell_type": "code",
   "execution_count": 31,
   "id": "6afc9d37-76c6-4c1c-9eb9-121217924f62",
   "metadata": {
    "tags": []
   },
   "outputs": [],
   "source": [
    "table_data = soup.find(\"table\",{\"class\":\"historical_data_table, table\"})"
   ]
  },
  {
   "cell_type": "code",
   "execution_count": 55,
   "id": "07dc52cc-00f7-4f03-880d-ab9c2e1a96ea",
   "metadata": {
    "tags": []
   },
   "outputs": [],
   "source": [
    "new_data =  soup.find_all('tbody')[1]\n",
    "rows =  new_data.find_all(\"tr\")\n",
    "for row in rows:\n",
    "    cols = row.find_all(\"td\")\n",
    "    date = cols[0].text\n",
    "    revenue = cols[1].text\n",
    "    tesla_revenue = tesla_revenue._append({\"Date\":date,\"Revenue\":revenue},ignore_index=True)"
   ]
  },
  {
   "cell_type": "code",
   "execution_count": 56,
   "id": "f05e08e4-0a3e-4d28-af1c-02deb6bdfc17",
   "metadata": {},
   "outputs": [
    {
     "data": {
      "text/html": [
       "<div>\n",
       "<style scoped>\n",
       "    .dataframe tbody tr th:only-of-type {\n",
       "        vertical-align: middle;\n",
       "    }\n",
       "\n",
       "    .dataframe tbody tr th {\n",
       "        vertical-align: top;\n",
       "    }\n",
       "\n",
       "    .dataframe thead th {\n",
       "        text-align: right;\n",
       "    }\n",
       "</style>\n",
       "<table border=\"1\" class=\"dataframe\">\n",
       "  <thead>\n",
       "    <tr style=\"text-align: right;\">\n",
       "      <th></th>\n",
       "      <th>Date</th>\n",
       "      <th>Revenue</th>\n",
       "    </tr>\n",
       "  </thead>\n",
       "  <tbody>\n",
       "    <tr>\n",
       "      <th>0</th>\n",
       "      <td>2014</td>\n",
       "      <td>500</td>\n",
       "    </tr>\n",
       "    <tr>\n",
       "      <th>1</th>\n",
       "      <td>2014</td>\n",
       "      <td>500</td>\n",
       "    </tr>\n",
       "    <tr>\n",
       "      <th>2</th>\n",
       "      <td>2014</td>\n",
       "      <td>500</td>\n",
       "    </tr>\n",
       "    <tr>\n",
       "      <th>3</th>\n",
       "      <td>2014</td>\n",
       "      <td>500</td>\n",
       "    </tr>\n",
       "    <tr>\n",
       "      <th>4</th>\n",
       "      <td>2014</td>\n",
       "      <td>500</td>\n",
       "    </tr>\n",
       "    <tr>\n",
       "      <th>...</th>\n",
       "      <td>...</td>\n",
       "      <td>...</td>\n",
       "    </tr>\n",
       "    <tr>\n",
       "      <th>158</th>\n",
       "      <td>2010-06-30</td>\n",
       "      <td>$28</td>\n",
       "    </tr>\n",
       "    <tr>\n",
       "      <th>159</th>\n",
       "      <td>2010-03-31</td>\n",
       "      <td>$21</td>\n",
       "    </tr>\n",
       "    <tr>\n",
       "      <th>160</th>\n",
       "      <td>2009-12-31</td>\n",
       "      <td></td>\n",
       "    </tr>\n",
       "    <tr>\n",
       "      <th>161</th>\n",
       "      <td>2009-09-30</td>\n",
       "      <td>$46</td>\n",
       "    </tr>\n",
       "    <tr>\n",
       "      <th>162</th>\n",
       "      <td>2009-06-30</td>\n",
       "      <td>$27</td>\n",
       "    </tr>\n",
       "  </tbody>\n",
       "</table>\n",
       "<p>163 rows × 2 columns</p>\n",
       "</div>"
      ],
      "text/plain": [
       "           Date Revenue\n",
       "0          2014     500\n",
       "1          2014     500\n",
       "2          2014     500\n",
       "3          2014     500\n",
       "4          2014     500\n",
       "..          ...     ...\n",
       "158  2010-06-30     $28\n",
       "159  2010-03-31     $21\n",
       "160  2009-12-31        \n",
       "161  2009-09-30     $46\n",
       "162  2009-06-30     $27\n",
       "\n",
       "[163 rows x 2 columns]"
      ]
     },
     "execution_count": 56,
     "metadata": {},
     "output_type": "execute_result"
    }
   ],
   "source": [
    "tesla_revenue"
   ]
  }
 ],
 "metadata": {
  "kernelspec": {
   "display_name": "Python 3 (ipykernel)",
   "language": "python",
   "name": "python3"
  },
  "language_info": {
   "codemirror_mode": {
    "name": "ipython",
    "version": 3
   },
   "file_extension": ".py",
   "mimetype": "text/x-python",
   "name": "python",
   "nbconvert_exporter": "python",
   "pygments_lexer": "ipython3",
   "version": "3.11.9"
  }
 },
 "nbformat": 4,
 "nbformat_minor": 5
}
