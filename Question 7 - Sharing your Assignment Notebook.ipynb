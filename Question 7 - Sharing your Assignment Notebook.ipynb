{
 "cells": [
  {
   "cell_type": "code",
   "execution_count": null,
   "id": "6e5d019e-1fb3-4d05-b2f0-78b5a3a0b422",
   "metadata": {},
   "outputs": [],
   "source": [
    "# Question 7 - Sharing your Assignment Notebook"
   ]
  },
  {
   "cell_type": "markdown",
   "id": "bb6d8ff8-875c-472b-8cdd-3ff15792e39f",
   "metadata": {},
   "source": [
    "[View my Project(Analyzing Historical Stock/Revenue Data and Building a Dashboard)](https://github.com/WaqasHKhan/Python?tab=readme-ov-file#python)"
   ]
  },
  {
   "cell_type": "code",
   "execution_count": null,
   "id": "c5d0e190-7e96-41ac-97a2-cdcb75628ca0",
   "metadata": {},
   "outputs": [],
   "source": []
  }
 ],
 "metadata": {
  "kernelspec": {
   "display_name": "Python 3 (ipykernel)",
   "language": "python",
   "name": "python3"
  },
  "language_info": {
   "codemirror_mode": {
    "name": "ipython",
    "version": 3
   },
   "file_extension": ".py",
   "mimetype": "text/x-python",
   "name": "python",
   "nbconvert_exporter": "python",
   "pygments_lexer": "ipython3",
   "version": "3.11.9"
  }
 },
 "nbformat": 4,
 "nbformat_minor": 5
}
